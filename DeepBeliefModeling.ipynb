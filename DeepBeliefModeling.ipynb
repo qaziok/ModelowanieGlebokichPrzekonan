{
 "cells": [
  {
   "cell_type": "markdown",
   "metadata": {
    "collapsed": true,
    "pycharm": {
     "name": "#%% md\n"
    }
   },
   "source": [
    "# Deep Belief Modeling\n",
    "Project for SI course"
   ]
  },
  {
   "cell_type": "markdown",
   "source": [
    "## Imports"
   ],
   "metadata": {
    "collapsed": false,
    "pycharm": {
     "name": "#%% md\n"
    }
   }
  },
  {
   "cell_type": "code",
   "execution_count": 1,
   "outputs": [],
   "source": [
    "import pandas as pd"
   ],
   "metadata": {
    "collapsed": false,
    "pycharm": {
     "name": "#%%\n"
    }
   }
  },
  {
   "cell_type": "markdown",
   "source": [
    "## Loading data"
   ],
   "metadata": {
    "collapsed": false,
    "pycharm": {
     "name": "#%% md\n"
    }
   }
  },
  {
   "cell_type": "code",
   "execution_count": 2,
   "outputs": [],
   "source": [
    "df_train = pd.read_csv(\"resources/data.csv\", sep=\"\\t\")\n",
    "# maybe add test data in future"
   ],
   "metadata": {
    "collapsed": false,
    "pycharm": {
     "name": "#%%\n"
    }
   }
  },
  {
   "cell_type": "markdown",
   "source": [
    "## Input data visualisation"
   ],
   "metadata": {
    "collapsed": false,
    "pycharm": {
     "name": "#%% md\n"
    }
   }
  },
  {
   "cell_type": "code",
   "execution_count": 3,
   "outputs": [
    {
     "data": {
      "text/plain": "<AxesSubplot:>"
     },
     "execution_count": 3,
     "metadata": {},
     "output_type": "execute_result"
    },
    {
     "data": {
      "text/plain": "<Figure size 432x288 with 1 Axes>",
      "image/png": "[encoded data removed]"
     },
     "metadata": {
      "needs_background": "light"
     },
     "output_type": "display_data"
    }
   ],
   "source": [
    "x = df_train[\"label\"].value_counts()\n",
    "x.plot(kind=\"bar\", color=[\"r\", \"b\"])"
   ],
   "metadata": {
    "collapsed": false,
    "pycharm": {
     "name": "#%%\n"
    }
   }
  },
  {
   "cell_type": "markdown",
   "source": [
    "## Text pre-processing for classification"
   ],
   "metadata": {
    "collapsed": false,
    "pycharm": {
     "name": "#%% md\n"
    }
   }
  },
  {
   "cell_type": "code",
   "execution_count": 4,
   "outputs": [],
   "source": [
    "from preprocessing.article import word_preprocess"
   ],
   "metadata": {
    "collapsed": false,
    "pycharm": {
     "name": "#%%\n"
    }
   }
  },
  {
   "cell_type": "code",
   "execution_count": 5,
   "outputs": [
    {
     "name": "stdout",
     "output_type": "stream",
     "text": [
      "0    It's been quite a week. I've been in the media...\n",
      "1    This week has been eye-opening. Even for me --...\n",
      "2    Yes, it's true. I beat COVID-19 in 48 hours wi...\n",
      "3    The COVID-19 vaccines appear to be causing a g...\n",
      "4    Back in the 1980s, I was a Columbia University...\n",
      "5    So you got the vaccine because they told you t...\n",
      "6    I Am A Living Proof That COVID-19 Is Fake This...\n",
      "7    I have a PhD in virology and immunology. I’m a...\n",
      "8    How do you convince the world’s population to ...\n",
      "9    Take 15 minutes and listen to this interview w...\n",
      "Name: data, dtype: object\n",
      "0    [quite, week, medium, business, decade, never,...\n",
      "1    [week, eye, opening, even, guy, warned, year, ...\n",
      "2    [yes, true, beat, covid, hour, ivermectin, get...\n",
      "3    [covid, vaccine, appear, causing, global, heal...\n",
      "4    [back, columbia, university, student, learning...\n",
      "5    [got, vaccine, told, get, forced, get, joe, bi...\n",
      "6    [living, proof, covid, fake, unfiltered, take,...\n",
      "7    [phd, virology, immunology, clinical, lab, sci...\n",
      "8    [convince, world, population, take, unproven, ...\n",
      "9    [take, minute, listen, interview, hospital, nu...\n",
      "Name: data, dtype: object\n"
     ]
    }
   ],
   "source": [
    "print(df_train[\"data\"].head(10))\n",
    "print(df_train[\"data\"].head(10).apply(word_preprocess))"
   ],
   "metadata": {
    "collapsed": false,
    "pycharm": {
     "name": "#%%\n"
    }
   }
  },
  {
   "cell_type": "markdown",
   "source": [
    "## Feature selection"
   ],
   "metadata": {
    "collapsed": false,
    "pycharm": {
     "name": "#%% md\n"
    }
   }
  },
  {
   "cell_type": "markdown",
   "source": [
    "### TF-IDF Vectorizer"
   ],
   "metadata": {
    "collapsed": false,
    "pycharm": {
     "name": "#%% md\n"
    }
   }
  },
  {
   "cell_type": "code",
   "execution_count": 6,
   "outputs": [
    {
     "name": "stdout",
     "output_type": "stream",
     "text": [
      "['aabduzrw' 'aaby' 'aaho' ... 'zoster' 'zuckerberg' 'zurich']\n",
      "Tf-idf vectorizer\n",
      "     aabduzrw  aaby  aaho  aamcnews     aaron  aarp    abbott  abby  abc  \\\n",
      "0         0.0   0.0   0.0       0.0  0.000000   0.0  0.000000   0.0  0.0   \n",
      "1         0.0   0.0   0.0       0.0  0.000000   0.0  0.000000   0.0  0.0   \n",
      "2         0.0   0.0   0.0       0.0  0.032700   0.0  0.000000   0.0  0.0   \n",
      "3         0.0   0.0   0.0       0.0  0.000000   0.0  0.000000   0.0  0.0   \n",
      "4         0.0   0.0   0.0       0.0  0.000000   0.0  0.000000   0.0  0.0   \n",
      "..        ...   ...   ...       ...       ...   ...       ...   ...  ...   \n",
      "123       0.0   0.0   0.0       0.0  0.054671   0.0  0.000000   0.0  0.0   \n",
      "124       0.0   0.0   0.0       0.0  0.000000   0.0  0.000000   0.0  0.0   \n",
      "125       0.0   0.0   0.0       0.0  0.000000   0.0  0.000000   0.0  0.0   \n",
      "126       0.0   0.0   0.0       0.0  0.000000   0.0  0.037119   0.0  0.0   \n",
      "127       0.0   0.0   0.0       0.0  0.000000   0.0  0.000000   0.0  0.0   \n",
      "\n",
      "     abdominal  ...  zelenko      zero  zev  zika      zinc  zombie     zoom  \\\n",
      "0          0.0  ...      0.0  0.041564  0.0   0.0  0.000000     0.0  0.00000   \n",
      "1          0.0  ...      0.0  0.000000  0.0   0.0  0.000000     0.0  0.00000   \n",
      "2          0.0  ...      0.0  0.000000  0.0   0.0  0.034417     0.0  0.03663   \n",
      "3          0.0  ...      0.0  0.000000  0.0   0.0  0.000000     0.0  0.00000   \n",
      "4          0.0  ...      0.0  0.000000  0.0   0.0  0.000000     0.0  0.00000   \n",
      "..         ...  ...      ...       ...  ...   ...       ...     ...      ...   \n",
      "123        0.0  ...      0.0  0.000000  0.0   0.0  0.000000     0.0  0.00000   \n",
      "124        0.0  ...      0.0  0.000000  0.0   0.0  0.000000     0.0  0.00000   \n",
      "125        0.0  ...      0.0  0.000000  0.0   0.0  0.000000     0.0  0.00000   \n",
      "126        0.0  ...      0.0  0.048493  0.0   0.0  0.000000     0.0  0.00000   \n",
      "127        0.0  ...      0.0  0.000000  0.0   0.0  0.000000     0.0  0.00000   \n",
      "\n",
      "     zoster  zuckerberg  zurich  \n",
      "0       0.0         0.0     0.0  \n",
      "1       0.0         0.0     0.0  \n",
      "2       0.0         0.0     0.0  \n",
      "3       0.0         0.0     0.0  \n",
      "4       0.0         0.0     0.0  \n",
      "..      ...         ...     ...  \n",
      "123     0.0         0.0     0.0  \n",
      "124     0.0         0.0     0.0  \n",
      "125     0.0         0.0     0.0  \n",
      "126     0.0         0.0     0.0  \n",
      "127     0.0         0.0     0.0  \n",
      "\n",
      "[128 rows x 7841 columns]\n"
     ]
    }
   ],
   "source": [
    "# https://medium.com/@cmukesh8688/tf-idf-vectorizer-scikit-learn-dbc0244a911a\n",
    "import pickle\n",
    "\n",
    "with open(\"model_storage/vectorizer.pkl\",\"rb\") as file:\n",
    "    tfidf_vectorizer = pickle.load(file)\n",
    "\n",
    "with open(\"model_storage/bow.pkl\",\"rb\") as file:\n",
    "    tfidf_wm = pickle.load(file)\n",
    "\n",
    "with open(\"model_storage/classifier.pkl\",\"rb\") as file:\n",
    "    clf = pickle.load(file)\n",
    "\n",
    "tfidf_tokens = tfidf_vectorizer.get_feature_names_out()\n",
    "\n",
    "print(tfidf_tokens)\n",
    "\n",
    "df_tfidf_vect = pd.DataFrame(data=tfidf_wm.toarray(), columns=tfidf_tokens)\n",
    "\n",
    "print(\"Tf-idf vectorizer\")\n",
    "print(df_tfidf_vect)"
   ],
   "metadata": {
    "collapsed": false,
    "pycharm": {
     "name": "#%%\n"
    }
   }
  },
  {
   "cell_type": "code",
   "source": [
    "from matplotlib import pyplot as plt\n",
    "from sklearn.decomposition import TruncatedSVD\n",
    "\n",
    "clftr = TruncatedSVD(2)\n",
    "Xpca = clftr.fit_transform(tfidf_wm)\n",
    "plt.scatter([x[0] for x in Xpca],[x[1] for x in Xpca])\n",
    "plt.show()"
   ],
   "metadata": {
    "collapsed": false,
    "pycharm": {
     "name": "#%%\n"
    }
   },
   "execution_count": 7,
   "outputs": [
    {
     "data": {
      "text/plain": "<Figure size 432x288 with 1 Axes>",
      "image/png": "[encoded data removed]"
     },
     "metadata": {
      "needs_background": "light"
     },
     "output_type": "display_data"
    }
   ]
  },
  {
   "cell_type": "code",
   "execution_count": 8,
   "outputs": [
    {
     "data": {
      "text/plain": "<Figure size 720x360 with 1 Axes>",
      "image/png": "[encoded data removed]"
     },
     "metadata": {
      "needs_background": "light"
     },
     "output_type": "display_data"
    }
   ],
   "source": [
    "from random import randint\n",
    "from sklearn.datasets import load_iris\n",
    "from sklearn.decomposition import PCA\n",
    "from sklearn.svm import SVC\n",
    "import matplotlib.pyplot as plt\n",
    "from matplotlib.colors import ListedColormap\n",
    "import numpy as np\n",
    "h = .01\n",
    "x_min, x_max = -0.4,0.6\n",
    "y_min, y_max = -0.4,0.6\n",
    "# loading dataset\n",
    "data = load_iris()\n",
    "X, y = tfidf_wm.toarray(), df_train[\"label\"]\n",
    "# selecting first 2 components of PCA\n",
    "X_selected = PCA(2).fit_transform(X)\n",
    "# training classifier and evaluating on the whole plane\n",
    "clfsvc = SVC()\n",
    "clfsvc.fit(X_selected,y)\n",
    "xx, yy = np.meshgrid(np.arange(x_min, x_max, h), np.arange(y_min, y_max, h))\n",
    "Z = clfsvc.predict(np.c_[xx.ravel(), yy.ravel()])\n",
    "Z = Z.reshape(xx.shape)\n",
    "# Plotting\n",
    "cmap_light = ListedColormap(['#FFAAAA', '#AAFFAA', '#AAAAFF'])\n",
    "cmap_bold = ListedColormap(['#FF0000', '#00FF00', '#0000FF'])\n",
    "plt.figure(figsize=(10,5))\n",
    "plt.pcolormesh(xx, yy, Z, alpha=.6,cmap=cmap_light)\n",
    "plt.title('PCA - Iris dataset')\n",
    "plt.xlabel('Dimension 1')\n",
    "plt.ylabel('Dimension 2')\n",
    "for xy,c in zip(X_selected,df_train[\"label\"]):\n",
    "    plt.scatter(xy[0],xy[1],c= 'red' if c == 0 else 'blue')\n",
    "plt.show()\n"
   ],
   "metadata": {
    "collapsed": false,
    "pycharm": {
     "name": "#%%\n"
    }
   }
  },
  {
   "cell_type": "code",
   "execution_count": 9,
   "outputs": [],
   "source": [
    "from model.features import f_importances_graph"
   ],
   "metadata": {
    "collapsed": false,
    "pycharm": {
     "name": "#%%\n"
    }
   }
  },
  {
   "cell_type": "code",
   "execution_count": 10,
   "outputs": [
    {
     "data": {
      "text/plain": "<Figure size 432x288 with 1 Axes>",
      "image/png": "[encoded data removed]"
     },
     "metadata": {
      "needs_background": "light"
     },
     "output_type": "display_data"
    }
   ],
   "source": [
    "slowa_anty, slowa_pro = f_importances_graph(clf.coef_,tfidf_tokens, limit=20)"
   ],
   "metadata": {
    "collapsed": false,
    "pycharm": {
     "name": "#%%\n"
    }
   }
  },
  {
   "cell_type": "code",
   "execution_count": 11,
   "outputs": [],
   "source": [
    "with open(\"model_storage/words_pa.pkl\",\"rb\") as file:\n",
    "    words_pa = pickle.load(file)"
   ],
   "metadata": {
    "collapsed": false,
    "pycharm": {
     "name": "#%%\n"
    }
   }
  },
  {
   "cell_type": "code",
   "execution_count": 12,
   "outputs": [],
   "source": [
    "from collections import Counter,defaultdict\n",
    "from sklearn.feature_extraction.text import TfidfTransformer\n",
    "\n",
    "slowa_kluczowe = [s for _,s in slowa_pro+slowa_anty]\n",
    "article_vectors = []\n",
    "\n",
    "\n",
    "for a in words_pa:\n",
    "    zliczone = Counter([word for word in a if word in slowa_kluczowe])\n",
    "    article_vectors.append([zliczone[s] for s in slowa_kluczowe])\n",
    "\n",
    "article_vectors = TfidfTransformer().fit_transform(article_vectors)"
   ],
   "metadata": {
    "collapsed": false,
    "pycharm": {
     "name": "#%%\n"
    }
   }
  },
  {
   "cell_type": "code",
   "execution_count": 13,
   "outputs": [],
   "source": [
    "from sklearn_som.som import SOM\n",
    "\n",
    "som = SOM(40,1,40,max_iter=10000)\n",
    "\n",
    "som.fit(article_vectors.toarray(),10000)\n",
    "\n",
    "p = som.predict(article_vectors.toarray())"
   ],
   "metadata": {
    "collapsed": false,
    "pycharm": {
     "name": "#%%\n"
    }
   }
  },
  {
   "cell_type": "code",
   "execution_count": 14,
   "outputs": [],
   "source": [
    "p,c = zip(*zip(p,[\"g\" if l else \"r\" for l in df_train[\"label\"]]))"
   ],
   "metadata": {
    "collapsed": false,
    "pycharm": {
     "name": "#%%\n"
    }
   }
  },
  {
   "cell_type": "code",
   "execution_count": 15,
   "outputs": [
    {
     "data": {
      "text/plain": "<matplotlib.collections.PathCollection at 0x1c9d59bfd30>"
     },
     "execution_count": 15,
     "metadata": {},
     "output_type": "execute_result"
    },
    {
     "data": {
      "text/plain": "<Figure size 432x288 with 1 Axes>",
      "image/png": "[encoded data removed]"
     },
     "metadata": {
      "needs_background": "light"
     },
     "output_type": "display_data"
    }
   ],
   "source": [
    "plt.scatter(range(len(p)),p,c=c)"
   ],
   "metadata": {
    "collapsed": false,
    "pycharm": {
     "name": "#%%\n"
    }
   }
  }
 ],
 "metadata": {
  "kernelspec": {
   "display_name": "Python 3",
   "language": "python",
   "name": "python3"
  },
  "language_info": {
   "codemirror_mode": {
    "name": "ipython",
    "version": 2
   },
   "file_extension": ".py",
   "mimetype": "text/x-python",
   "name": "python",
   "nbconvert_exporter": "python",
   "pygments_lexer": "ipython2",
   "version": "2.7.6"
  }
 },
 "nbformat": 4,
 "nbformat_minor": 0
}