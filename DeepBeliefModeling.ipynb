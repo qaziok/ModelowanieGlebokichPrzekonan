{
 "cells": [
  {
   "cell_type": "markdown",
   "metadata": {
    "collapsed": true,
    "pycharm": {
     "name": "#%% md\n"
    }
   },
   "source": [
    "# Deep Belief Modeling\n",
    "Project for SI course"
   ]
  },
  {
   "cell_type": "markdown",
   "source": [
    "## Imports"
   ],
   "metadata": {
    "collapsed": false,
    "pycharm": {
     "name": "#%% md\n"
    }
   }
  },
  {
   "cell_type": "code",
   "execution_count": 35,
   "outputs": [],
   "source": [
    "import string\n",
    "\n",
    "import pandas as pd\n",
    "import re\n",
    "from nltk import WordNetLemmatizer\n",
    "from nltk import word_tokenize\n",
    "from nltk.corpus import stopwords\n",
    "from sklearn.feature_extraction.text import TfidfVectorizer, CountVectorizer"
   ],
   "metadata": {
    "collapsed": false,
    "pycharm": {
     "name": "#%%\n"
    }
   }
  },
  {
   "cell_type": "markdown",
   "source": [
    "## Loading data"
   ],
   "metadata": {
    "collapsed": false,
    "pycharm": {
     "name": "#%% md\n"
    }
   }
  },
  {
   "cell_type": "code",
   "execution_count": 36,
   "outputs": [],
   "source": [
    "df_train = pd.read_csv(\"resources/data.csv\", sep=\"\\t\")\n",
    "# maybe add test data in future"
   ],
   "metadata": {
    "collapsed": false,
    "pycharm": {
     "name": "#%%\n"
    }
   }
  },
  {
   "cell_type": "markdown",
   "source": [
    "## Input data visualisation"
   ],
   "metadata": {
    "collapsed": false,
    "pycharm": {
     "name": "#%% md\n"
    }
   }
  },
  {
   "cell_type": "code",
   "execution_count": 37,
   "outputs": [
    {
     "data": {
      "text/plain": "<AxesSubplot:>"
     },
     "execution_count": 37,
     "metadata": {},
     "output_type": "execute_result"
    },
    {
     "data": {
      "text/plain": "<Figure size 432x288 with 1 Axes>",
      "image/png": "[encoded data removed]"
     },
     "metadata": {
      "needs_background": "light"
     },
     "output_type": "display_data"
    }
   ],
   "source": [
    "x = df_train[\"label\"].value_counts()\n",
    "x.plot(kind=\"bar\", color=[\"r\", \"b\"])"
   ],
   "metadata": {
    "collapsed": false,
    "pycharm": {
     "name": "#%%\n"
    }
   }
  },
  {
   "cell_type": "markdown",
   "source": [
    "## Text pre-processing for classification"
   ],
   "metadata": {
    "collapsed": false,
    "pycharm": {
     "name": "#%% md\n"
    }
   }
  },
  {
   "cell_type": "code",
   "execution_count": 45,
   "outputs": [],
   "source": [
    "# nie dziala\n",
    "\n",
    "def remove_punctuation(text):\n",
    "    return \"\".join([c for c in text if c not in string.punctuation and c != \"’\" and c != \"—\"])\n",
    "\n",
    "def remove_special_characters(text):\n",
    "    return text.replace(r'[^A-Za-z0-9 ]+', '')\n",
    "\n",
    "def remove_numbers(text):\n",
    "    return re.sub('\\d+', '', text)\n",
    "\n",
    "def tokenization(text):\n",
    "    return word_tokenize(text)\n",
    "\n",
    "def remove_stopwords(text):\n",
    "    stop_words = set(stopwords.words('english'))\n",
    "    return [w for w in text if w not in stop_words]\n",
    "\n",
    "def lemmatizer(text):\n",
    "    wordnet_lemmatizer = WordNetLemmatizer()\n",
    "    return [wordnet_lemmatizer.lemmatize(w) for w in text]\n",
    "\n",
    "def text_preprocessing(text):\n",
    "    text = remove_punctuation(text)\n",
    "    text = remove_special_characters(text)\n",
    "    text = remove_numbers(text)\n",
    "    text = text.lower()\n",
    "    text = tokenization(text)\n",
    "    text = remove_stopwords(text)\n",
    "    text = lemmatizer(text)\n",
    "    return text"
   ],
   "metadata": {
    "collapsed": false,
    "pycharm": {
     "name": "#%%\n"
    }
   }
  },
  {
   "cell_type": "code",
   "execution_count": 52,
   "outputs": [],
   "source": [
    "# https://stackoverflow.com/a/54398984\n",
    "# prawie dziala\n",
    "\n",
    "from nltk import RegexpTokenizer\n",
    "\n",
    "wordnet_lemmatizer = WordNetLemmatizer()\n",
    "\n",
    "def preprocess(sentence):\n",
    "    sentence = str(sentence)\n",
    "    sentence = sentence.lower()\n",
    "    sentence = sentence.replace('{html}',\"\")\n",
    "    cleanr = re.compile('<.*?>')\n",
    "    cleantext = re.sub(cleanr, '', sentence)\n",
    "    rem_url = re.sub(r'http\\S+', '',cleantext)\n",
    "    rem_num = re.sub('\\d+', '', rem_url)\n",
    "    tokenizer = RegexpTokenizer(r'\\w+')\n",
    "    tokens = tokenizer.tokenize(rem_num)\n",
    "    filtered_words = [w for w in tokens if len(w) > 2 if not w in stopwords.words('english')]\n",
    "    lemma_words = [wordnet_lemmatizer.lemmatize(w) for w in filtered_words]\n",
    "    return lemma_words"
   ],
   "metadata": {
    "collapsed": false,
    "pycharm": {
     "name": "#%%\n"
    }
   }
  },
  {
   "cell_type": "markdown",
   "source": [],
   "metadata": {
    "collapsed": false,
    "pycharm": {
     "name": "#%% md\n"
    }
   }
  },
  {
   "cell_type": "markdown",
   "source": [],
   "metadata": {
    "collapsed": false,
    "pycharm": {
     "name": "#%% md\n"
    }
   }
  },
  {
   "cell_type": "code",
   "execution_count": 53,
   "outputs": [
    {
     "name": "stdout",
     "output_type": "stream",
     "text": [
      "0    It's been quite a week. I've been in the media...\n",
      "1    This week has been eye-opening. Even for me --...\n",
      "2    Yes, it's true. I beat COVID-19 in 48 hours wi...\n",
      "3    The COVID-19 vaccines appear to be causing a g...\n",
      "4    Back in the 1980s, I was a Columbia University...\n",
      "5    So you got the vaccine because they told you t...\n",
      "6    I Am A Living Proof That COVID-19 Is Fake This...\n",
      "7    I have a PhD in virology and immunology. I’m a...\n",
      "8    How do you convince the world’s population to ...\n",
      "9    Take 15 minutes and listen to this interview w...\n",
      "Name: data, dtype: object\n",
      "0    [quite, week, ive, medium, business, decade, i...\n",
      "1    [week, eyeopening, even, im, guy, warned, year...\n",
      "2    [yes, true, beat, covid, hour, ivermectin, get...\n",
      "3    [covid, vaccine, appear, causing, global, heal...\n",
      "4    [back, columbia, university, student, learning...\n",
      "5    [got, vaccine, told, get, forced, get, joe, bi...\n",
      "6    [living, proof, covid, fake, unfiltered, take,...\n",
      "7    [phd, virology, immunology, im, clinical, lab,...\n",
      "8    [convince, world, population, take, unproven, ...\n",
      "9    [take, minute, listen, interview, hospital, nu...\n",
      "Name: data, dtype: object\n"
     ]
    }
   ],
   "source": [
    "print(df_train[\"data\"].head(10))\n",
    "print(df_train[\"data\"].apply(text_preprocessing).head(10))\n",
    "\n",
    "preprocessed_data = df_train[\"data\"].apply(text_preprocessing)"
   ],
   "metadata": {
    "collapsed": false,
    "pycharm": {
     "name": "#%%\n"
    }
   }
  },
  {
   "cell_type": "markdown",
   "source": [
    "## Feature selection"
   ],
   "metadata": {
    "collapsed": false,
    "pycharm": {
     "name": "#%% md\n"
    }
   }
  },
  {
   "cell_type": "markdown",
   "source": [
    "### TF-IDF Vectorizer"
   ],
   "metadata": {
    "collapsed": false,
    "pycharm": {
     "name": "#%% md\n"
    }
   }
  },
  {
   "cell_type": "code",
   "execution_count": 56,
   "outputs": [
    {
     "name": "stdout",
     "output_type": "stream",
     "text": [
      "['________________________________________________________________________'\n",
      " 'aabduzrw' 'aaby' ... 'zoster' 'zuckerberg' 'zurich']\n",
      "['________________________________________________________________________'\n",
      " 'aabduzrw' 'aaby' ... 'zoster' 'zuckerberg' 'zurich']\n",
      "Count vectorizer\n",
      "     ________________________________________________________________________  \\\n",
      "0                                                    0                          \n",
      "1                                                    0                          \n",
      "2                                                    0                          \n",
      "3                                                    0                          \n",
      "4                                                    0                          \n",
      "..                                                 ...                          \n",
      "123                                                  0                          \n",
      "124                                                  0                          \n",
      "125                                                  0                          \n",
      "126                                                  0                          \n",
      "127                                                  0                          \n",
      "\n",
      "     aabduzrw  aaby  aaho  aamcnews  aaron  aarp  abbott  abby  abc  ...  \\\n",
      "0           0     0     0         0      0     0       0     0    0  ...   \n",
      "1           0     0     0         0      0     0       0     0    0  ...   \n",
      "2           0     0     0         0      1     0       0     0    0  ...   \n",
      "3           0     0     0         0      0     0       0     0    0  ...   \n",
      "4           0     0     0         0      0     0       0     0    0  ...   \n",
      "..        ...   ...   ...       ...    ...   ...     ...   ...  ...  ...   \n",
      "123         0     0     0         0      1     0       0     0    0  ...   \n",
      "124         0     0     0         0      0     0       0     0    0  ...   \n",
      "125         0     0     0         0      0     0       0     0    0  ...   \n",
      "126         0     0     0         0      0     0       1     0    0  ...   \n",
      "127         0     0     0         0      0     0       0     0    0  ...   \n",
      "\n",
      "     zelenko  zero  zev  zika  zinc  zombie  zoom  zoster  zuckerberg  zurich  \n",
      "0          0     1    0     0     0       0     0       0           0       0  \n",
      "1          0     0    0     0     0       0     0       0           0       0  \n",
      "2          0     0    0     0     1       0     1       0           0       0  \n",
      "3          0     0    0     0     0       0     0       0           0       0  \n",
      "4          0     0    0     0     0       0     0       0           0       0  \n",
      "..       ...   ...  ...   ...   ...     ...   ...     ...         ...     ...  \n",
      "123        0     0    0     0     0       0     0       0           0       0  \n",
      "124        0     0    0     0     0       0     0       0           0       0  \n",
      "125        0     0    0     0     0       0     0       0           0       0  \n",
      "126        0     2    0     0     0       0     0       0           0       0  \n",
      "127        0     0    0     0     0       0     0       0           0       0  \n",
      "\n",
      "[128 rows x 7842 columns]\n",
      "Tf-idf vectorizer\n",
      "     ________________________________________________________________________  \\\n",
      "0                                                  0.0                          \n",
      "1                                                  0.0                          \n",
      "2                                                  0.0                          \n",
      "3                                                  0.0                          \n",
      "4                                                  0.0                          \n",
      "..                                                 ...                          \n",
      "123                                                0.0                          \n",
      "124                                                0.0                          \n",
      "125                                                0.0                          \n",
      "126                                                0.0                          \n",
      "127                                                0.0                          \n",
      "\n",
      "     aabduzrw  aaby  aaho  aamcnews     aaron  aarp    abbott  abby  abc  ...  \\\n",
      "0         0.0   0.0   0.0       0.0  0.000000   0.0  0.000000   0.0  0.0  ...   \n",
      "1         0.0   0.0   0.0       0.0  0.000000   0.0  0.000000   0.0  0.0  ...   \n",
      "2         0.0   0.0   0.0       0.0  0.032700   0.0  0.000000   0.0  0.0  ...   \n",
      "3         0.0   0.0   0.0       0.0  0.000000   0.0  0.000000   0.0  0.0  ...   \n",
      "4         0.0   0.0   0.0       0.0  0.000000   0.0  0.000000   0.0  0.0  ...   \n",
      "..        ...   ...   ...       ...       ...   ...       ...   ...  ...  ...   \n",
      "123       0.0   0.0   0.0       0.0  0.054671   0.0  0.000000   0.0  0.0  ...   \n",
      "124       0.0   0.0   0.0       0.0  0.000000   0.0  0.000000   0.0  0.0  ...   \n",
      "125       0.0   0.0   0.0       0.0  0.000000   0.0  0.000000   0.0  0.0  ...   \n",
      "126       0.0   0.0   0.0       0.0  0.000000   0.0  0.037119   0.0  0.0  ...   \n",
      "127       0.0   0.0   0.0       0.0  0.000000   0.0  0.000000   0.0  0.0  ...   \n",
      "\n",
      "     zelenko      zero  zev  zika      zinc  zombie     zoom  zoster  \\\n",
      "0        0.0  0.041564  0.0   0.0  0.000000     0.0  0.00000     0.0   \n",
      "1        0.0  0.000000  0.0   0.0  0.000000     0.0  0.00000     0.0   \n",
      "2        0.0  0.000000  0.0   0.0  0.034417     0.0  0.03663     0.0   \n",
      "3        0.0  0.000000  0.0   0.0  0.000000     0.0  0.00000     0.0   \n",
      "4        0.0  0.000000  0.0   0.0  0.000000     0.0  0.00000     0.0   \n",
      "..       ...       ...  ...   ...       ...     ...      ...     ...   \n",
      "123      0.0  0.000000  0.0   0.0  0.000000     0.0  0.00000     0.0   \n",
      "124      0.0  0.000000  0.0   0.0  0.000000     0.0  0.00000     0.0   \n",
      "125      0.0  0.000000  0.0   0.0  0.000000     0.0  0.00000     0.0   \n",
      "126      0.0  0.048493  0.0   0.0  0.000000     0.0  0.00000     0.0   \n",
      "127      0.0  0.000000  0.0   0.0  0.000000     0.0  0.00000     0.0   \n",
      "\n",
      "     zuckerberg  zurich  \n",
      "0           0.0     0.0  \n",
      "1           0.0     0.0  \n",
      "2           0.0     0.0  \n",
      "3           0.0     0.0  \n",
      "4           0.0     0.0  \n",
      "..          ...     ...  \n",
      "123         0.0     0.0  \n",
      "124         0.0     0.0  \n",
      "125         0.0     0.0  \n",
      "126         0.0     0.0  \n",
      "127         0.0     0.0  \n",
      "\n",
      "[128 rows x 7842 columns]\n"
     ]
    }
   ],
   "source": [
    "# https://medium.com/@cmukesh8688/tf-idf-vectorizer-scikit-learn-dbc0244a911a\n",
    "\n",
    "count_vectorizer = CountVectorizer(tokenizer=preprocess)\n",
    "tfidf_vectorizer = TfidfVectorizer(tokenizer=preprocess)\n",
    "\n",
    "count_wm = count_vectorizer.fit_transform(df_train[\"data\"])\n",
    "tfidf_wm = tfidf_vectorizer.fit_transform(df_train[\"data\"])\n",
    "\n",
    "count_tokens = count_vectorizer.get_feature_names_out()\n",
    "tfidf_tokens = tfidf_vectorizer.get_feature_names_out()\n",
    "\n",
    "print(count_tokens)\n",
    "print(tfidf_tokens)\n",
    "\n",
    "df_count_vect = pd.DataFrame(data=count_wm.toarray(), columns=count_tokens)\n",
    "df_tfidf_vect = pd.DataFrame(data=tfidf_wm.toarray(), columns=tfidf_tokens)\n",
    "\n",
    "print(\"Count vectorizer\")\n",
    "print(df_count_vect)\n",
    "print(\"Tf-idf vectorizer\")\n",
    "print(df_tfidf_vect)"
   ],
   "metadata": {
    "collapsed": false,
    "pycharm": {
     "name": "#%%\n"
    }
   }
  }
 ],
 "metadata": {
  "kernelspec": {
   "display_name": "Python 3",
   "language": "python",
   "name": "python3"
  },
  "language_info": {
   "codemirror_mode": {
    "name": "ipython",
    "version": 2
   },
   "file_extension": ".py",
   "mimetype": "text/x-python",
   "name": "python",
   "nbconvert_exporter": "python",
   "pygments_lexer": "ipython2",
   "version": "2.7.6"
  }
 },
 "nbformat": 4,
 "nbformat_minor": 0
}